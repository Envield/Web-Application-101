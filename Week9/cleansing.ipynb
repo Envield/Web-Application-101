{
 "cells": [
  {
   "cell_type": "code",
   "execution_count": 15,
   "metadata": {},
   "outputs": [],
   "source": [
    "import pandas as pd\n",
    "import re\n",
    "import numpy as np\n",
    "import pickle\n",
    "\n",
    "comments_df = pd.read_csv('./dataset/youtube-comments.csv')"
   ]
  },
  {
   "cell_type": "code",
   "execution_count": 124,
   "metadata": {},
   "outputs": [
    {
     "data": {
      "text/html": [
       "<div>\n",
       "<style scoped>\n",
       "    .dataframe tbody tr th:only-of-type {\n",
       "        vertical-align: middle;\n",
       "    }\n",
       "\n",
       "    .dataframe tbody tr th {\n",
       "        vertical-align: top;\n",
       "    }\n",
       "\n",
       "    .dataframe thead th {\n",
       "        text-align: right;\n",
       "    }\n",
       "</style>\n",
       "<table border=\"1\" class=\"dataframe\">\n",
       "  <thead>\n",
       "    <tr style=\"text-align: right;\">\n",
       "      <th></th>\n",
       "      <th>publishedAt</th>\n",
       "      <th>Username</th>\n",
       "      <th>Comments</th>\n",
       "      <th>like</th>\n",
       "    </tr>\n",
       "  </thead>\n",
       "  <tbody>\n",
       "    <tr>\n",
       "      <th>0</th>\n",
       "      <td>2024-10-13T02:19:37Z</td>\n",
       "      <td>@baradragneel3681</td>\n",
       "      <td>OPPO Indonesia : Open Recruitment for CMO Oppo...</td>\n",
       "      <td>0</td>\n",
       "    </tr>\n",
       "    <tr>\n",
       "      <th>1</th>\n",
       "      <td>2024-10-13T02:10:42Z</td>\n",
       "      <td>@xopurwanto-d9q</td>\n",
       "      <td>🤣</td>\n",
       "      <td>0</td>\n",
       "    </tr>\n",
       "    <tr>\n",
       "      <th>2</th>\n",
       "      <td>2024-10-13T02:06:26Z</td>\n",
       "      <td>@baqusputra</td>\n",
       "      <td>Kelihatan kualitasnya wkwk</td>\n",
       "      <td>0</td>\n",
       "    </tr>\n",
       "    <tr>\n",
       "      <th>3</th>\n",
       "      <td>2024-10-13T02:03:14Z</td>\n",
       "      <td>@nanako_12</td>\n",
       "      <td>&lt;a href=\"https://www.youtube.com/watch?v=dMj1-...</td>\n",
       "      <td>0</td>\n",
       "    </tr>\n",
       "    <tr>\n",
       "      <th>4</th>\n",
       "      <td>2024-10-13T02:02:29Z</td>\n",
       "      <td>@FawBio</td>\n",
       "      <td>Sampah</td>\n",
       "      <td>0</td>\n",
       "    </tr>\n",
       "    <tr>\n",
       "      <th>5</th>\n",
       "      <td>2024-10-13T02:01:21Z</td>\n",
       "      <td>@leszaleonardo6688</td>\n",
       "      <td>Oppo clearly needs to sign another Indonesian ...</td>\n",
       "      <td>0</td>\n",
       "    </tr>\n",
       "    <tr>\n",
       "      <th>6</th>\n",
       "      <td>2024-10-13T01:46:39Z</td>\n",
       "      <td>@vaingloryhell321</td>\n",
       "      <td>Wohahahahaha brand hp paling bnyak rusak di ko...</td>\n",
       "      <td>1</td>\n",
       "    </tr>\n",
       "    <tr>\n",
       "      <th>7</th>\n",
       "      <td>2024-10-13T01:33:35Z</td>\n",
       "      <td>@refanto_doank</td>\n",
       "      <td>ga pernah tertarik ama smartphone dari brand ini</td>\n",
       "      <td>1</td>\n",
       "    </tr>\n",
       "    <tr>\n",
       "      <th>8</th>\n",
       "      <td>2024-10-13T01:31:45Z</td>\n",
       "      <td>@rikiamirkusnadi859</td>\n",
       "      <td>This is an insult, they think that we are stup...</td>\n",
       "      <td>1</td>\n",
       "    </tr>\n",
       "    <tr>\n",
       "      <th>9</th>\n",
       "      <td>2024-10-13T01:30:47Z</td>\n",
       "      <td>@taufikr4328</td>\n",
       "      <td>Yaelah kirain terima kritikan malah mencari pe...</td>\n",
       "      <td>1</td>\n",
       "    </tr>\n",
       "  </tbody>\n",
       "</table>\n",
       "</div>"
      ],
      "text/plain": [
       "            publishedAt             Username  \\\n",
       "0  2024-10-13T02:19:37Z    @baradragneel3681   \n",
       "1  2024-10-13T02:10:42Z      @xopurwanto-d9q   \n",
       "2  2024-10-13T02:06:26Z          @baqusputra   \n",
       "3  2024-10-13T02:03:14Z           @nanako_12   \n",
       "4  2024-10-13T02:02:29Z              @FawBio   \n",
       "5  2024-10-13T02:01:21Z   @leszaleonardo6688   \n",
       "6  2024-10-13T01:46:39Z    @vaingloryhell321   \n",
       "7  2024-10-13T01:33:35Z       @refanto_doank   \n",
       "8  2024-10-13T01:31:45Z  @rikiamirkusnadi859   \n",
       "9  2024-10-13T01:30:47Z         @taufikr4328   \n",
       "\n",
       "                                            Comments  like  \n",
       "0  OPPO Indonesia : Open Recruitment for CMO Oppo...     0  \n",
       "1                                                  🤣     0  \n",
       "2                         Kelihatan kualitasnya wkwk     0  \n",
       "3  <a href=\"https://www.youtube.com/watch?v=dMj1-...     0  \n",
       "4                                             Sampah     0  \n",
       "5  Oppo clearly needs to sign another Indonesian ...     0  \n",
       "6  Wohahahahaha brand hp paling bnyak rusak di ko...     1  \n",
       "7   ga pernah tertarik ama smartphone dari brand ini     1  \n",
       "8  This is an insult, they think that we are stup...     1  \n",
       "9  Yaelah kirain terima kritikan malah mencari pe...     1  "
      ]
     },
     "execution_count": 124,
     "metadata": {},
     "output_type": "execute_result"
    }
   ],
   "source": [
    "comments_df = comments_df.rename(columns={'authorDisplayName': 'Username','textDisplay':'Comments','likeCount':'like'})\n",
    "comments_df.head(10)"
   ]
  },
  {
   "cell_type": "code",
   "execution_count": 125,
   "metadata": {},
   "outputs": [
    {
     "name": "stdout",
     "output_type": "stream",
     "text": [
      "<class 'pandas.core.frame.DataFrame'>\n",
      "RangeIndex: 2181 entries, 0 to 2180\n",
      "Data columns (total 4 columns):\n",
      " #   Column       Non-Null Count  Dtype \n",
      "---  ------       --------------  ----- \n",
      " 0   publishedAt  2181 non-null   object\n",
      " 1   Username     2181 non-null   object\n",
      " 2   Comments     2181 non-null   object\n",
      " 3   like         2181 non-null   int64 \n",
      "dtypes: int64(1), object(3)\n",
      "memory usage: 68.3+ KB\n"
     ]
    }
   ],
   "source": [
    "comments_df.info()"
   ]
  },
  {
   "cell_type": "code",
   "execution_count": 126,
   "metadata": {},
   "outputs": [
    {
     "name": "stdout",
     "output_type": "stream",
     "text": [
      "Jumlah data duplikat:  0\n"
     ]
    }
   ],
   "source": [
    "print('Jumlah data duplikat: ', comments_df.duplicated().sum())"
   ]
  },
  {
   "cell_type": "code",
   "execution_count": 127,
   "metadata": {},
   "outputs": [
    {
     "data": {
      "text/html": [
       "<div>\n",
       "<style scoped>\n",
       "    .dataframe tbody tr th:only-of-type {\n",
       "        vertical-align: middle;\n",
       "    }\n",
       "\n",
       "    .dataframe tbody tr th {\n",
       "        vertical-align: top;\n",
       "    }\n",
       "\n",
       "    .dataframe thead th {\n",
       "        text-align: right;\n",
       "    }\n",
       "</style>\n",
       "<table border=\"1\" class=\"dataframe\">\n",
       "  <thead>\n",
       "    <tr style=\"text-align: right;\">\n",
       "      <th></th>\n",
       "      <th>Comments</th>\n",
       "    </tr>\n",
       "  </thead>\n",
       "  <tbody>\n",
       "    <tr>\n",
       "      <th>0</th>\n",
       "      <td>OPPO Indonesia : Open Recruitment for CMO Oppo...</td>\n",
       "    </tr>\n",
       "    <tr>\n",
       "      <th>1</th>\n",
       "      <td>🤣</td>\n",
       "    </tr>\n",
       "    <tr>\n",
       "      <th>2</th>\n",
       "      <td>Kelihatan kualitasnya wkwk</td>\n",
       "    </tr>\n",
       "    <tr>\n",
       "      <th>3</th>\n",
       "      <td>&lt;a href=\"https://www.youtube.com/watch?v=dMj1-...</td>\n",
       "    </tr>\n",
       "    <tr>\n",
       "      <th>4</th>\n",
       "      <td>Sampah</td>\n",
       "    </tr>\n",
       "    <tr>\n",
       "      <th>5</th>\n",
       "      <td>Oppo clearly needs to sign another Indonesian ...</td>\n",
       "    </tr>\n",
       "    <tr>\n",
       "      <th>6</th>\n",
       "      <td>Wohahahahaha brand hp paling bnyak rusak di ko...</td>\n",
       "    </tr>\n",
       "    <tr>\n",
       "      <th>7</th>\n",
       "      <td>ga pernah tertarik ama smartphone dari brand ini</td>\n",
       "    </tr>\n",
       "    <tr>\n",
       "      <th>8</th>\n",
       "      <td>This is an insult, they think that we are stup...</td>\n",
       "    </tr>\n",
       "    <tr>\n",
       "      <th>9</th>\n",
       "      <td>Yaelah kirain terima kritikan malah mencari pe...</td>\n",
       "    </tr>\n",
       "  </tbody>\n",
       "</table>\n",
       "</div>"
      ],
      "text/plain": [
       "                                            Comments\n",
       "0  OPPO Indonesia : Open Recruitment for CMO Oppo...\n",
       "1                                                  🤣\n",
       "2                         Kelihatan kualitasnya wkwk\n",
       "3  <a href=\"https://www.youtube.com/watch?v=dMj1-...\n",
       "4                                             Sampah\n",
       "5  Oppo clearly needs to sign another Indonesian ...\n",
       "6  Wohahahahaha brand hp paling bnyak rusak di ko...\n",
       "7   ga pernah tertarik ama smartphone dari brand ini\n",
       "8  This is an insult, they think that we are stup...\n",
       "9  Yaelah kirain terima kritikan malah mencari pe..."
      ]
     },
     "execution_count": 127,
     "metadata": {},
     "output_type": "execute_result"
    }
   ],
   "source": [
    "comments_df = comments_df[['Comments']]\n",
    "comments_df.head(10)"
   ]
  },
  {
   "cell_type": "code",
   "execution_count": 128,
   "metadata": {},
   "outputs": [
    {
     "data": {
      "text/html": [
       "<div>\n",
       "<style scoped>\n",
       "    .dataframe tbody tr th:only-of-type {\n",
       "        vertical-align: middle;\n",
       "    }\n",
       "\n",
       "    .dataframe tbody tr th {\n",
       "        vertical-align: top;\n",
       "    }\n",
       "\n",
       "    .dataframe thead th {\n",
       "        text-align: right;\n",
       "    }\n",
       "</style>\n",
       "<table border=\"1\" class=\"dataframe\">\n",
       "  <thead>\n",
       "    <tr style=\"text-align: right;\">\n",
       "      <th></th>\n",
       "      <th>Comments</th>\n",
       "    </tr>\n",
       "  </thead>\n",
       "  <tbody>\n",
       "    <tr>\n",
       "      <th>0</th>\n",
       "      <td>OPPO Indonesia : Open Recruitment for CMO Oppo...</td>\n",
       "    </tr>\n",
       "    <tr>\n",
       "      <th>1</th>\n",
       "      <td>🤣</td>\n",
       "    </tr>\n",
       "    <tr>\n",
       "      <th>2</th>\n",
       "      <td>Kelihatan kualitasnya wkwk</td>\n",
       "    </tr>\n",
       "    <tr>\n",
       "      <th>3</th>\n",
       "      <td>&lt;a href=\"https://www.youtube.com/watch?v=dMj1-...</td>\n",
       "    </tr>\n",
       "    <tr>\n",
       "      <th>4</th>\n",
       "      <td>Sampah</td>\n",
       "    </tr>\n",
       "    <tr>\n",
       "      <th>5</th>\n",
       "      <td>Oppo clearly needs to sign another Indonesian ...</td>\n",
       "    </tr>\n",
       "    <tr>\n",
       "      <th>6</th>\n",
       "      <td>Wohahahahaha brand hp paling bnyak rusak di ko...</td>\n",
       "    </tr>\n",
       "    <tr>\n",
       "      <th>7</th>\n",
       "      <td>ga pernah tertarik ama smartphone dari brand ini</td>\n",
       "    </tr>\n",
       "    <tr>\n",
       "      <th>8</th>\n",
       "      <td>This is an insult, they think that we are stup...</td>\n",
       "    </tr>\n",
       "    <tr>\n",
       "      <th>9</th>\n",
       "      <td>Yaelah kirain terima kritikan malah mencari pe...</td>\n",
       "    </tr>\n",
       "  </tbody>\n",
       "</table>\n",
       "</div>"
      ],
      "text/plain": [
       "                                            Comments\n",
       "0  OPPO Indonesia : Open Recruitment for CMO Oppo...\n",
       "1                                                  🤣\n",
       "2                         Kelihatan kualitasnya wkwk\n",
       "3  <a href=\"https://www.youtube.com/watch?v=dMj1-...\n",
       "4                                             Sampah\n",
       "5  Oppo clearly needs to sign another Indonesian ...\n",
       "6  Wohahahahaha brand hp paling bnyak rusak di ko...\n",
       "7   ga pernah tertarik ama smartphone dari brand ini\n",
       "8  This is an insult, they think that we are stup...\n",
       "9  Yaelah kirain terima kritikan malah mencari pe..."
      ]
     },
     "execution_count": 128,
     "metadata": {},
     "output_type": "execute_result"
    }
   ],
   "source": [
    "comments_df = comments_df.rename(columns={'authorDisplayName': 'Username','textDisplay':'Comments','likeCount':'like'})\n",
    "comments_df.head(10)"
   ]
  },
  {
   "cell_type": "code",
   "execution_count": 129,
   "metadata": {},
   "outputs": [
    {
     "name": "stdout",
     "output_type": "stream",
     "text": [
      "Index(['Comments'], dtype='object')\n"
     ]
    }
   ],
   "source": [
    "print(comments_df.columns)"
   ]
  },
  {
   "cell_type": "code",
   "execution_count": 22,
   "metadata": {},
   "outputs": [
    {
     "name": "stdout",
     "output_type": "stream",
     "text": [
      "                                             Comments\n",
      "0   oppo indonesia : open recruitment for cmo oppo...\n",
      "1                                                    \n",
      "2                          kelihatan kualitasnya wkwk\n",
      "3                                <a href=\" <a href=\" \n",
      "4                                              sampah\n",
      "..                                                ...\n",
      "95  hey brooo davidd chanel nya jutaan tau kan kua...\n",
      "96     cmo nya pendidikannya sebatas sd doang keknya \n",
      "97                          jaka sembung bawa golok.!\n",
      "98                               ga nyambung go .....\n",
      "99                                   blunder awokawok\n",
      "\n",
      "[100 rows x 1 columns]\n"
     ]
    }
   ],
   "source": [
    "# Fungsi untuk membersihkan teks\n",
    "def clean_text(text):\n",
    "    # Mengubah teks menjadi lowercase\n",
    "    text = text.lower()\n",
    "    \n",
    "    # Menghapus URL\n",
    "    text = re.sub(r\"http\\S+|www\\S+|https\\S+\", '', text, flags=re.MULTILINE)\n",
    "    \n",
    "    # Menghapus tag HTML seperti <a href=\"\"> dan <br>\n",
    "    text = re.sub(r'<a\\s+href=\".*?\"\\s*>', '', text)  # Tag pembuka <a href=\"\">\n",
    "    text = re.sub(r'</a>', '', text)  # Tag penutup </a>\n",
    "    text = re.sub(r'<br\\s*/?>', ' ', text)\n",
    "    \n",
    "    # Menghapus emotikon tambahan menggunakan regex\n",
    "    emoji_pattern = re.compile(\n",
    "        \"[\" \n",
    "        u\"\\U0001F600-\\U0001F64F\"  # Emoticon wajah\n",
    "        u\"\\U0001F300-\\U0001F5FF\"  # Simbol & ikon lainnya\n",
    "        u\"\\U0001F680-\\U0001F6FF\"  # Transportasi & simbol lainnya\n",
    "        u\"\\U0001F1E0-\\U0001F1FF\"  # Bendera\n",
    "        u\"\\U00002500-\\U00002BEF\"  # Simbol geometris\n",
    "        u\"\\U00002700-\\U000027BF\"  # Simbol tambahan lainnya\n",
    "        u\"\\U0001F900-\\U0001F9FF\"  # Emotikon tambahan (contoh: 🤡, 🤢, 🥰)\n",
    "        u\"\\U0001FA70-\\U0001FAFF\"  # Simbol tambahan lainnya\n",
    "        u\"\\U00002300-\\U000023FF\"  # Simbol tambahan seperti ⏰, ⌚\n",
    "        \"]+\", flags=re.UNICODE)\n",
    "    \n",
    "    text = emoji_pattern.sub(r'', text)\n",
    "    \n",
    "    return text\n",
    "\n",
    "# Memuat dataset Anda (misalnya file CSV)\n",
    "comments_df = pd.read_csv('./dataset/youtube-comments.csv')\n",
    "\n",
    "# Rename kolom sesuai dengan perubahan yang diperlukan\n",
    "comments_df = comments_df.rename(columns={'authorDisplayName': 'Username', 'textDisplay': 'Comments', 'likeCount': 'like'})\n",
    "\n",
    "# Menerapkan fungsi clean_text ke kolom \"Comments\"\n",
    "comments_df['Comments'] = comments_df['Comments'].apply(clean_text)\n",
    "\n",
    "# Menyimpan dataset yang sudah dibersihkan (hanya kolom Comments)\n",
    "cleaned_comments_df = comments_df[['Comments']]\n",
    "cleaned_comments_df.to_csv('./dataset/cleaned_comments.csv', index=False)\n",
    "\n",
    "# Menampilkan 5 baris pertama dari dataset yang sudah dibersihkan\n",
    "print(cleaned_comments_df.head(100))\n"
   ]
  },
  {
   "cell_type": "code",
   "execution_count": 16,
   "metadata": {},
   "outputs": [
    {
     "name": "stderr",
     "output_type": "stream",
     "text": [
      "d:\\01 KULIAH\\SEMESTER 5\\APLIKASI WEB\\Streamlit\\global\\Lib\\site-packages\\sklearn\\base.py:376: InconsistentVersionWarning: Trying to unpickle estimator CountVectorizer from version 0.22.2.post1 when using version 1.5.2. This might lead to breaking code or invalid results. Use at your own risk. For more info please refer to:\n",
      "https://scikit-learn.org/stable/model_persistence.html#security-maintainability-limitations\n",
      "  warnings.warn(\n",
      "d:\\01 KULIAH\\SEMESTER 5\\APLIKASI WEB\\Streamlit\\global\\Lib\\site-packages\\sklearn\\base.py:376: InconsistentVersionWarning: Trying to unpickle estimator MultinomialNB from version 0.22.2.post1 when using version 1.5.2. This might lead to breaking code or invalid results. Use at your own risk. For more info please refer to:\n",
      "https://scikit-learn.org/stable/model_persistence.html#security-maintainability-limitations\n",
      "  warnings.warn(\n",
      "d:\\01 KULIAH\\SEMESTER 5\\APLIKASI WEB\\Streamlit\\global\\Lib\\site-packages\\sklearn\\base.py:376: InconsistentVersionWarning: Trying to unpickle estimator LabelBinarizer from version 0.22.2.post1 when using version 1.5.2. This might lead to breaking code or invalid results. Use at your own risk. For more info please refer to:\n",
      "https://scikit-learn.org/stable/model_persistence.html#security-maintainability-limitations\n",
      "  warnings.warn(\n",
      "d:\\01 KULIAH\\SEMESTER 5\\APLIKASI WEB\\Streamlit\\global\\Lib\\site-packages\\sklearn\\base.py:376: InconsistentVersionWarning: Trying to unpickle estimator MLPClassifier from version 0.22.2.post1 when using version 1.5.2. This might lead to breaking code or invalid results. Use at your own risk. For more info please refer to:\n",
      "https://scikit-learn.org/stable/model_persistence.html#security-maintainability-limitations\n",
      "  warnings.warn(\n"
     ]
    }
   ],
   "source": [
    "# Membaca file feature-bow.p\n",
    "with open('feature-bow.p', 'rb') as file:\n",
    "    fb = pickle.load(file)\n",
    "\n",
    "# Membaca file feature.p\n",
    "with open('feature.p', 'rb') as file:\n",
    "    ft = pickle.load(file)\n",
    "\n",
    "# Membaca file model-nb.p\n",
    "with open('model-nb.p', 'rb') as file:\n",
    "    nb = pickle.load(file)\n",
    "\n",
    "# Membaca file model-nn.p\n",
    "with open('model-nn.p', 'rb') as file:\n",
    "    nn = pickle.load(file)\n"
   ]
  },
  {
   "cell_type": "code",
   "execution_count": 26,
   "metadata": {},
   "outputs": [
    {
     "ename": "NameError",
     "evalue": "name 'comments' is not defined",
     "output_type": "error",
     "traceback": [
      "\u001b[1;31m---------------------------------------------------------------------------\u001b[0m",
      "\u001b[1;31mNameError\u001b[0m                                 Traceback (most recent call last)",
      "Cell \u001b[1;32mIn[26], line 1\u001b[0m\n\u001b[1;32m----> 1\u001b[0m text_feature \u001b[38;5;241m=\u001b[39m fb\u001b[38;5;241m.\u001b[39mtransform([\u001b[43mcomments\u001b[49m])\n",
      "\u001b[1;31mNameError\u001b[0m: name 'comments' is not defined"
     ]
    }
   ],
   "source": [
    "comments = cleaned_comments_df\n",
    "text_feature = fb.transform([comments])"
   ]
  },
  {
   "cell_type": "code",
   "execution_count": null,
   "metadata": {},
   "outputs": [],
   "source": [
    "def predict_sentiment(sent):\n",
    "    # cleansing\n",
    "    text = clean_text(str(sent))\n",
    "    # feature extraction\n",
    "    text_feature = feature-bow.transform([text])\n",
    "    # predict\n",
    "    return model_nb.predict(text_feature)[0]"
   ]
  }
 ],
 "metadata": {
  "kernelspec": {
   "display_name": "global",
   "language": "python",
   "name": "python3"
  },
  "language_info": {
   "codemirror_mode": {
    "name": "ipython",
    "version": 3
   },
   "file_extension": ".py",
   "mimetype": "text/x-python",
   "name": "python",
   "nbconvert_exporter": "python",
   "pygments_lexer": "ipython3",
   "version": "3.12.2"
  }
 },
 "nbformat": 4,
 "nbformat_minor": 2
}
